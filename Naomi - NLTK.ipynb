{
 "cells": [
  {
   "cell_type": "code",
   "execution_count": 1,
   "id": "8f5e3ec8",
   "metadata": {},
   "outputs": [],
   "source": [
    "# Importing necessary libraries and packages\n",
    "\n",
    "import nltk\n",
    "\n",
    "from nltk.tokenize import word_tokenize\n",
    "\n",
    "from nltk.corpus import stopwords\n",
    "\n",
    "from nltk.stem import PorterStemmer"
   ]
  },
  {
   "cell_type": "code",
   "execution_count": 2,
   "id": "fcd3da0a",
   "metadata": {},
   "outputs": [
    {
     "name": "stderr",
     "output_type": "stream",
     "text": [
      "[nltk_data] Downloading package punkt to\n",
      "[nltk_data]     C:\\Users\\User\\AppData\\Roaming\\nltk_data...\n",
      "[nltk_data]   Package punkt is already up-to-date!\n",
      "[nltk_data] Downloading package stopwords to\n",
      "[nltk_data]     C:\\Users\\User\\AppData\\Roaming\\nltk_data...\n",
      "[nltk_data]   Package stopwords is already up-to-date!\n"
     ]
    },
    {
     "data": {
      "text/plain": [
       "True"
      ]
     },
     "execution_count": 2,
     "metadata": {},
     "output_type": "execute_result"
    }
   ],
   "source": [
    "# Download required NLTK data\n",
    "\n",
    "nltk.download('punkt')\n",
    "\n",
    "nltk.download('stopwords')"
   ]
  },
  {
   "cell_type": "code",
   "execution_count": 3,
   "id": "ca5eb813",
   "metadata": {},
   "outputs": [],
   "source": [
    "# Sample dataset: User reviews\n",
    "\n",
    "reviews = [\n",
    "\n",
    "    \"I absolutely love this product! It has changed my life!!!\",\n",
    "\n",
    "    \"Do not buy this. It broke after just a day.\",\n",
    "\n",
    "    \"Decent product for the price, I guess...\",\n",
    "\n",
    "    \"Absolutely fantastic! I can't believe how good this is.\",\n",
    "\n",
    "    \"Waste of money. Stopped working after a week.\",\n",
    "\n",
    "    \"For the price, it's okay...not great, but not terrible either.\"\n",
    "\n",
    "]"
   ]
  },
  {
   "cell_type": "code",
   "execution_count": 4,
   "id": "90f83f55",
   "metadata": {},
   "outputs": [
    {
     "name": "stdout",
     "output_type": "stream",
     "text": [
      "Tokens for the first review:\n",
      "['I', 'absolutely', 'love', 'this', 'product', '!', 'It', 'has', 'changed', 'my', 'life', '!', '!', '!']\n",
      "\n",
      "Tokens for the second review:\n",
      "['Do', 'not', 'buy', 'this', '.', 'It', 'broke', 'after', 'just', 'a', 'day', '.']\n"
     ]
    }
   ],
   "source": [
    "# Task 1: Tokenization\n",
    "\n",
    "tokenized_reviews = [word_tokenize(review) for review in reviews]\n",
    "\n",
    "print(\"Tokens for the first review:\")\n",
    "\n",
    "print(tokenized_reviews[0])\n",
    "\n",
    "print(\"\\nTokens for the second review:\")\n",
    "\n",
    "print(tokenized_reviews[1])"
   ]
  },
  {
   "cell_type": "code",
   "execution_count": 5,
   "id": "8c8cd305",
   "metadata": {},
   "outputs": [
    {
     "name": "stdout",
     "output_type": "stream",
     "text": [
      "\n",
      "Lowercased tokens for the third review:\n",
      "['decent', 'product', 'for', 'the', 'price', ',', 'i', 'guess', '...']\n"
     ]
    }
   ],
   "source": [
    "# Task 2: Lowercasing\n",
    "\n",
    "lowercased_reviews = [[word.lower() for word in review] for review in tokenized_reviews]\n",
    "\n",
    "print(\"\\nLowercased tokens for the third review:\")\n",
    "\n",
    "print(lowercased_reviews[2])"
   ]
  },
  {
   "cell_type": "code",
   "execution_count": 6,
   "id": "6626e2b5",
   "metadata": {},
   "outputs": [
    {
     "name": "stdout",
     "output_type": "stream",
     "text": [
      "\n",
      "Cleaned tokens for the fourth review (no punctuation and stopwords):\n",
      "['absolutely', 'fantastic', 'ca', 'believe', 'good']\n"
     ]
    }
   ],
   "source": [
    "# Task 3: Removing Punctuation and Stopwords\n",
    "\n",
    "stop_words = set(stopwords.words('english'))\n",
    "\n",
    "cleaned_reviews = [[word for word in review if word.isalnum() and word not in stop_words] for review in lowercased_reviews]\n",
    "\n",
    "print(\"\\nCleaned tokens for the fourth review (no punctuation and stopwords):\")\n",
    "\n",
    "print(cleaned_reviews[3])\n"
   ]
  },
  {
   "cell_type": "code",
   "execution_count": 7,
   "id": "289734a5",
   "metadata": {},
   "outputs": [
    {
     "name": "stdout",
     "output_type": "stream",
     "text": [
      "\n",
      "Stemmed tokens for the fifth review:\n",
      "['wast', 'money', 'stop', 'work', 'week']\n"
     ]
    }
   ],
   "source": [
    "# Task 4: Stemming\n",
    "\n",
    "stemmer = PorterStemmer()\n",
    "\n",
    "stemmed_reviews = [[stemmer.stem(word) for word in review] for review in cleaned_reviews]\n",
    "\n",
    "print(\"\\nStemmed tokens for the fifth review:\")\n",
    "\n",
    "print(stemmed_reviews[4])"
   ]
  },
  {
   "cell_type": "code",
   "execution_count": null,
   "id": "df93ded7",
   "metadata": {},
   "outputs": [],
   "source": []
  }
 ],
 "metadata": {
  "kernelspec": {
   "display_name": "Python 3 (ipykernel)",
   "language": "python",
   "name": "python3"
  },
  "language_info": {
   "codemirror_mode": {
    "name": "ipython",
    "version": 3
   },
   "file_extension": ".py",
   "mimetype": "text/x-python",
   "name": "python",
   "nbconvert_exporter": "python",
   "pygments_lexer": "ipython3",
   "version": "3.11.5"
  }
 },
 "nbformat": 4,
 "nbformat_minor": 5
}
