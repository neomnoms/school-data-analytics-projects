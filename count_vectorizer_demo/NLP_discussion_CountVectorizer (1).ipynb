{
 "cells": [
  {
   "cell_type": "code",
   "execution_count": 1,
   "id": "6dd90faf",
   "metadata": {},
   "outputs": [
    {
     "name": "stdout",
     "output_type": "stream",
     "text": [
      "Requirement already satisfied: scikit-learn in c:\\programdata\\anaconda3\\lib\\site-packages (1.3.0)\n",
      "Requirement already satisfied: numpy>=1.17.3 in c:\\programdata\\anaconda3\\lib\\site-packages (from scikit-learn) (1.24.3)\n",
      "Requirement already satisfied: scipy>=1.5.0 in c:\\programdata\\anaconda3\\lib\\site-packages (from scikit-learn) (1.11.1)\n",
      "Requirement already satisfied: joblib>=1.1.1 in c:\\programdata\\anaconda3\\lib\\site-packages (from scikit-learn) (1.2.0)\n",
      "Requirement already satisfied: threadpoolctl>=2.0.0 in c:\\programdata\\anaconda3\\lib\\site-packages (from scikit-learn) (2.2.0)\n"
     ]
    }
   ],
   "source": [
    "! pip install scikit-learn"
   ]
  },
  {
   "cell_type": "code",
   "execution_count": 2,
   "id": "b3fe167e",
   "metadata": {},
   "outputs": [],
   "source": [
    "from sklearn.feature_extraction.text import CountVectorizer, TfidfVectorizer"
   ]
  },
  {
   "cell_type": "code",
   "execution_count": 3,
   "id": "98db677d",
   "metadata": {},
   "outputs": [],
   "source": [
    "corpus = [\n",
    "    'This is the first document.',\n",
    "    'This document is the second document.',\n",
    "    'And this is the third one',\n",
    "    'Is thisg the first document?'\n",
    "    \n",
    "]"
   ]
  },
  {
   "cell_type": "code",
   "execution_count": 4,
   "id": "727f7513",
   "metadata": {
    "scrolled": true
   },
   "outputs": [
    {
     "name": "stdout",
     "output_type": "stream",
     "text": [
      "Bag of Words BoW Representation:\n",
      " [[0 1 1 1 0 0 1 0 1 0]\n",
      " [0 2 0 1 0 1 1 0 1 0]\n",
      " [1 0 0 1 1 0 1 1 1 0]\n",
      " [0 1 1 1 0 0 1 0 0 1]]\n"
     ]
    }
   ],
   "source": [
    "vectorizer = CountVectorizer()\n",
    "\n",
    "X = vectorizer.fit_transform(corpus)\n",
    "\n",
    "print(\"Bag of Words BoW Representation:\\n\", X.toarray())"
   ]
  },
  {
   "cell_type": "code",
   "execution_count": 5,
   "id": "1c7f5633",
   "metadata": {},
   "outputs": [
    {
     "name": "stdout",
     "output_type": "stream",
     "text": [
      "\n",
      "TF-IDF Representation:\n",
      " [[0.         0.45349057 0.56015108 0.37075826 0.         0.\n",
      "  0.37075826 0.         0.45349057 0.        ]\n",
      " [0.         0.67453129 0.         0.27573676 0.         0.5283918\n",
      "  0.27573676 0.         0.33726564 0.        ]\n",
      " [0.50302425 0.         0.         0.26249892 0.50302425 0.\n",
      "  0.26249892 0.50302425 0.32107387 0.        ]\n",
      " [0.         0.39787085 0.49144966 0.32528549 0.         0.\n",
      "  0.32528549 0.         0.         0.62334157]]\n"
     ]
    }
   ],
   "source": [
    "tfidfvectorizer = TfidfVectorizer()\n",
    "\n",
    "X_tfidf = tfidfvectorizer.fit_transform(corpus)\n",
    "\n",
    "print(\"\\nTF-IDF Representation:\\n\", X_tfidf.toarray())"
   ]
  },
  {
   "cell_type": "code",
   "execution_count": 6,
   "id": "237bc568",
   "metadata": {},
   "outputs": [
    {
     "name": "stdout",
     "output_type": "stream",
     "text": [
      "\n",
      "Text Length Features: [27, 37, 25, 28]\n"
     ]
    }
   ],
   "source": [
    "text_length = [len(doc) for doc in corpus]\n",
    "print (\"\\nText Length Features:\",text_length)"
   ]
  },
  {
   "cell_type": "code",
   "execution_count": 7,
   "id": "c876cec2",
   "metadata": {},
   "outputs": [
    {
     "name": "stdout",
     "output_type": "stream",
     "text": [
      "\n",
      "Number of Unique words in feature: [5, 6, 6, 5]\n"
     ]
    }
   ],
   "source": [
    "num_unique_words = [len(set(doc.split())) for doc in corpus]\n",
    "print(\"\\nNumber of Unique words in feature:\", num_unique_words)"
   ]
  },
  {
   "cell_type": "code",
   "execution_count": null,
   "id": "2083ef71",
   "metadata": {},
   "outputs": [],
   "source": []
  },
  {
   "cell_type": "code",
   "execution_count": null,
   "id": "cc12d8e6",
   "metadata": {},
   "outputs": [],
   "source": []
  }
 ],
 "metadata": {
  "kernelspec": {
   "display_name": "Python 3 (ipykernel)",
   "language": "python",
   "name": "python3"
  },
  "language_info": {
   "codemirror_mode": {
    "name": "ipython",
    "version": 3
   },
   "file_extension": ".py",
   "mimetype": "text/x-python",
   "name": "python",
   "nbconvert_exporter": "python",
   "pygments_lexer": "ipython3",
   "version": "3.11.5"
  }
 },
 "nbformat": 4,
 "nbformat_minor": 5
}
