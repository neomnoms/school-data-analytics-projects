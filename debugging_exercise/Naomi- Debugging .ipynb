{
 "cells": [
  {
   "cell_type": "code",
   "execution_count": 1,
   "id": "9286df3d",
   "metadata": {},
   "outputs": [
    {
     "name": "stderr",
     "output_type": "stream",
     "text": [
      "[nltk_data] Downloading package punkt to\n",
      "[nltk_data]     C:\\Users\\User\\AppData\\Roaming\\nltk_data...\n",
      "[nltk_data]   Unzipping tokenizers\\punkt.zip.\n",
      "[nltk_data] Downloading package stopwords to\n",
      "[nltk_data]     C:\\Users\\User\\AppData\\Roaming\\nltk_data...\n",
      "[nltk_data]   Unzipping corpora\\stopwords.zip.\n"
     ]
    },
    {
     "data": {
      "text/plain": [
       "True"
      ]
     },
     "execution_count": 1,
     "metadata": {},
     "output_type": "execute_result"
    }
   ],
   "source": [
    "from nltk.tokenize import word_tokenize\n",
    "from nltk.corpus import stopwords\n",
    "from nltk.stem import PorterStemmer\n",
    "import nltk\n",
    "nltk.download('punkt')\n",
    "nltk.download('stopwords')\n"
   ]
  },
  {
   "cell_type": "code",
   "execution_count": 2,
   "id": "acad7b35",
   "metadata": {},
   "outputs": [],
   "source": [
    "# Sample dataset: User reviews\n",
    "reviews = [\n",
    "    \"Best purchase I made this year!!\",\n",
    "    \"Totally regret this. Stopped after a month.\",\n",
    "    \"Average product. Could be better, could be worse.\",\n",
    "    \"Impressed with the quality and performance.\",\n",
    "    \"Never buying this again. Complete waste.\"\n",
    "]\n"
   ]
  },
  {
   "cell_type": "code",
   "execution_count": 3,
   "id": "a3476154",
   "metadata": {},
   "outputs": [],
   "source": [
    "# Task 1: Tokenization\n",
    "tokenized_reviews = [word_tokenize(review) for review in reviews]"
   ]
  },
  {
   "cell_type": "code",
   "execution_count": 4,
   "id": "fb84cdf7",
   "metadata": {},
   "outputs": [],
   "source": [
    "# Task 2: Lowercasing\n",
    "lowercased_reviews = [[word.lower() for word in review] for review in tokenized_reviews]"
   ]
  },
  {
   "cell_type": "code",
   "execution_count": 5,
   "id": "51c193b5",
   "metadata": {},
   "outputs": [],
   "source": [
    "# Task 3: Removing Punctuation and Stopwords\n",
    "stop_words = set(stopwords.words('english'))\n",
    "cleaned_reviews = [[word for word in review if word.isalnum() and word not in stop_words] for review in lowercased_reviews]"
   ]
  },
  {
   "cell_type": "code",
   "execution_count": 6,
   "id": "4fc5752a",
   "metadata": {},
   "outputs": [],
   "source": [
    "# Task 4: Stemming\n",
    "stemmer = PorterStemmer()\n",
    "stemmed_reviews = [[stemmer.stem(word) for word in review] for review in cleaned_reviews]"
   ]
  },
  {
   "cell_type": "code",
   "execution_count": 7,
   "id": "9377afbc",
   "metadata": {},
   "outputs": [
    {
     "name": "stdout",
     "output_type": "stream",
     "text": [
      "best purchas made year\n",
      "total regret stop month\n",
      "averag product could better could wors\n",
      "impress qualiti perform\n",
      "never buy complet wast\n"
     ]
    }
   ],
   "source": [
    "# Print out the stemmed reviews\n",
    "for r in stemmed_reviews:\n",
    "    print(' '.join(r))"
   ]
  },
  {
   "cell_type": "code",
   "execution_count": null,
   "id": "60488cb6",
   "metadata": {},
   "outputs": [],
   "source": []
  }
 ],
 "metadata": {
  "kernelspec": {
   "display_name": "Python 3 (ipykernel)",
   "language": "python",
   "name": "python3"
  },
  "language_info": {
   "codemirror_mode": {
    "name": "ipython",
    "version": 3
   },
   "file_extension": ".py",
   "mimetype": "text/x-python",
   "name": "python",
   "nbconvert_exporter": "python",
   "pygments_lexer": "ipython3",
   "version": "3.11.5"
  }
 },
 "nbformat": 4,
 "nbformat_minor": 5
}
